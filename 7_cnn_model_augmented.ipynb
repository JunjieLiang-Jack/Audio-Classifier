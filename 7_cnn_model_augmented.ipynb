{
  "nbformat": 4,
  "nbformat_minor": 0,
  "metadata": {
    "kernelspec": {
      "display_name": "Python 3 (deep-learning-p36)",
      "language": "python",
      "name": "deep-learning-p36"
    },
    "language_info": {
      "codemirror_mode": {
        "name": "ipython",
        "version": 3
      },
      "file_extension": ".py",
      "mimetype": "text/x-python",
      "name": "python",
      "nbconvert_exporter": "python",
      "pygments_lexer": "ipython3",
      "version": "3.6.2"
    },
    "colab": {
      "name": "7-cnn-model-augmented.ipynb",
      "provenance": [],
      "collapsed_sections": [],
      "include_colab_link": true
    },
    "accelerator": "GPU"
  },
  "cells": [
    {
      "cell_type": "markdown",
      "metadata": {
        "id": "view-in-github",
        "colab_type": "text"
      },
      "source": [
        "<a href=\"https://colab.research.google.com/github/JunjieLiang-Jack/Audio-Classifier/blob/main/7_cnn_model_augmented.ipynb\" target=\"_parent\"><img src=\"https://colab.research.google.com/assets/colab-badge.svg\" alt=\"Open In Colab\"/></a>"
      ]
    },
    {
      "cell_type": "markdown",
      "metadata": {
        "nbpresent": {
          "id": "66105088-717f-47be-b719-d070a95e56d3"
        },
        "id": "hCxb9JdGu1U1"
      },
      "source": [
        "##  Classifying audio data with convolutional neural networks\n",
        "\n",
        "<br/>\n",
        "by Eduardo Garcia Rajo<br/>\n",
        "<br/>\n",
        "\n",
        "This notebook is part of the project \"Urban sounds classification with Covnolutional Neural Networks\" on [my Github](https://github.com/GorillaBus/urban-audio-classifier).<br/>\n",
        "<br/>\n",
        "Licensed under the GNU LESSER GENERAL PUBLIC LICENSE Version 3, 29 June 2007<br/>\n",
        "<br/>"
      ]
    },
    {
      "cell_type": "markdown",
      "metadata": {
        "nbpresent": {
          "id": "bdb8f444-143c-49a8-948d-4b56e2cb457d"
        },
        "id": "SPwTm2sju1U4"
      },
      "source": [
        "# Training CNN model with augmented data\n",
        "\n",
        "We are now able to train our basic -but yet well performing- CNN architecture with the new augmented data. While the initial dataset had 8,732 samples, the augmented dataset has 69,856, that is 8x more information than previous experiments.<br/>\n",
        "We'll use Log-Mel Spectrograms as features because they showed to perform better than MFCC in our experiments.<br/>\n",
        "<br/>\n",
        "As an important note, we are going to train from augmented data but we are only going to test with samples from the original dataset: we want to know how the augmented data helps to improve predictions of the original data.<br/>\n",
        "<br/>"
      ]
    },
    {
      "cell_type": "markdown",
      "metadata": {
        "nbpresent": {
          "id": "bb86170e-2226-491a-8aec-e01925008746"
        },
        "id": "IXSrx2Ffu1U5"
      },
      "source": [
        "#### * Load required libraries"
      ]
    },
    {
      "cell_type": "code",
      "metadata": {
        "id": "IAk-4VfX-Nau",
        "colab": {
          "base_uri": "https://localhost:8080/"
        },
        "outputId": "36b3d41d-a800-40df-81a8-6dd5f98cede7"
      },
      "source": [
        "from google.colab import drive\n",
        "drive.mount('/content/drive')\n",
        "!git clone https://github.com/GorillaBus/urban-audio-classifier.git\n"
      ],
      "execution_count": null,
      "outputs": [
        {
          "output_type": "stream",
          "text": [
            "Drive already mounted at /content/drive; to attempt to forcibly remount, call drive.mount(\"/content/drive\", force_remount=True).\n",
            "fatal: destination path 'urban-audio-classifier' already exists and is not an empty directory.\n"
          ],
          "name": "stdout"
        }
      ]
    },
    {
      "cell_type": "code",
      "metadata": {
        "id": "za6YzUHMryve"
      },
      "source": [
        "import sys\n",
        "sys.path.insert(0,'/content/urban-audio-classifier/include')\n",
        "import helpers"
      ],
      "execution_count": null,
      "outputs": []
    },
    {
      "cell_type": "code",
      "metadata": {
        "colab": {
          "base_uri": "https://localhost:8080/"
        },
        "id": "NJlg7pCQtknj",
        "outputId": "4b15f2bc-0036-4458-98c9-8ac13d857c04"
      },
      "source": [
        "!pip install np_utils"
      ],
      "execution_count": null,
      "outputs": [
        {
          "output_type": "stream",
          "text": [
            "Requirement already satisfied: np_utils in /usr/local/lib/python3.7/dist-packages (0.5.12.1)\n",
            "Requirement already satisfied: numpy>=1.0 in /usr/local/lib/python3.7/dist-packages (from np_utils) (1.19.5)\n",
            "Requirement already satisfied: future>=0.16 in /usr/local/lib/python3.7/dist-packages (from np_utils) (0.16.0)\n"
          ],
          "name": "stdout"
        }
      ]
    },
    {
      "cell_type": "code",
      "metadata": {
        "nbpresent": {
          "id": "8afd8752-1ca6-4fe1-b14d-b16615d0199b"
        },
        "id": "5ezy98l_u1U6"
      },
      "source": [
        "import sys\n",
        "import os\n",
        "import IPython\n",
        "import math\n",
        "import numpy as np\n",
        "import pandas as pd\n",
        "import pickle\n",
        "import matplotlib.pyplot as plt\n",
        "%matplotlib inline\n",
        "\n",
        "import random\n",
        "from datetime import datetime\n",
        "\n",
        "\n",
        "from keras import backend as keras_backend\n",
        "from keras.models import Sequential, load_model\n",
        "from keras.layers import Dense, Dropout, Flatten, LeakyReLU, SpatialDropout2D, Activation, Conv2D, MaxPooling2D, BatchNormalization, GlobalAveragePooling2D\n",
        "from tensorflow.keras.optimizers import Adam\n",
        "from tensorflow.keras.utils import to_categorical, plot_model\n",
        "from keras.callbacks import ModelCheckpoint \n",
        "from keras.regularizers import l2\n",
        "\n",
        "from sklearn.preprocessing import LabelEncoder\n",
        "from sklearn.model_selection import train_test_split\n",
        "from sklearn.metrics import classification_report, precision_recall_fscore_support, confusion_matrix"
      ],
      "execution_count": null,
      "outputs": []
    },
    {
      "cell_type": "code",
      "metadata": {
        "id": "ro93KzYou1U8"
      },
      "source": [
        "# Set your path to the dataset\n",
        "us8k_path = os.path.abspath('drive/MyDrive/CNN/Training\\ Data/UrbanSound8K/')\n",
        "orig_metadata_path = os.path.abspath('drive/MyDrive/CNN/Training Data/UrbanSound8K/metadata/UrbanSound8K.csv')\n",
        "aug_metadata_path = os.path.abspath('drive/MyDrive/CNN/Training Data/UrbanSound8K/metadata/augmented-data.csv')\n",
        "models_path = os.path.abspath('drive/MyDrive/CNN/Training Data/UrbanSound8K/models')\n",
        "data_path = os.path.abspath('./data')\n",
        "audio_path = os.path.join(us8k_path, 'audio')\n",
        "\n",
        "# Ensure \"channel last\" data format on Keras\n",
        "keras_backend.set_image_data_format('channels_last')\n",
        "\n",
        "# Define a labels array for future use\n",
        "labels = [\n",
        "        'Air Conditioner',\n",
        "        'Car Horn',\n",
        "        'Children Playing',\n",
        "        'Dog bark',\n",
        "        'Drilling',\n",
        "        'Engine Idling',\n",
        "        'Gun Shot',\n",
        "        'Jackhammer',\n",
        "        'Siren',\n",
        "        'Street Music'\n",
        "    ]"
      ],
      "execution_count": null,
      "outputs": []
    },
    {
      "cell_type": "code",
      "metadata": {
        "id": "7SmPAhB4u1U8"
      },
      "source": [
        "# Required for the RTX GPU -- uncomment if using GTX or CPU\n",
        "import keras.backend as K\n",
        "import tensorflow as tf\n",
        "config = tf.compat.v1.ConfigProto()\n",
        "config.gpu_options.allow_growth = True\n",
        "K.set_session(tf.compat.v1.Session(config=config)) "
      ],
      "execution_count": null,
      "outputs": []
    },
    {
      "cell_type": "markdown",
      "metadata": {
        "nbpresent": {
          "id": "a7b58aa0-2b3c-4854-a099-31d117ba74e1"
        },
        "id": "08TXiMhiu1U9"
      },
      "source": [
        "#### * Load data"
      ]
    },
    {
      "cell_type": "code",
      "metadata": {
        "nbpresent": {
          "id": "87d3ebd1-0d75-4ea4-8f12-9f891a72d3e2"
        },
        "id": "eg90ipy6u1U-",
        "colab": {
          "base_uri": "https://localhost:8080/",
          "height": 494
        },
        "outputId": "28e334b8-1492-4b99-d069-1e44ac6ae1b7"
      },
      "source": [
        "# Pre-processed MEL SPEC coefficients\n",
        "X = np.load('drive/MyDrive/CNN/Training Data/UrbanSound8K/data/mel_spec/X-mel_spec-augmented.npy')\n",
        "y = np.load('drive/MyDrive/CNN/Training Data/UrbanSound8K/data/mel_spec/y-mel_spec-augmented.npy')\n",
        "\n",
        "\n",
        "# Metadata\n",
        "metadata = pd.read_csv(orig_metadata_path)\n",
        "aug_metadata = pd.read_csv(aug_metadata_path)"
      ],
      "execution_count": null,
      "outputs": [
        {
          "output_type": "error",
          "ename": "OSError",
          "evalue": "ignored",
          "traceback": [
            "\u001b[0;31m---------------------------------------------------------------------------\u001b[0m",
            "\u001b[0;31mEOFError\u001b[0m                                  Traceback (most recent call last)",
            "\u001b[0;32m/usr/local/lib/python3.7/dist-packages/numpy/lib/npyio.py\u001b[0m in \u001b[0;36mload\u001b[0;34m(file, mmap_mode, allow_pickle, fix_imports, encoding)\u001b[0m\n\u001b[1;32m    446\u001b[0m             \u001b[0;32mtry\u001b[0m\u001b[0;34m:\u001b[0m\u001b[0;34m\u001b[0m\u001b[0;34m\u001b[0m\u001b[0m\n\u001b[0;32m--> 447\u001b[0;31m                 \u001b[0;32mreturn\u001b[0m \u001b[0mpickle\u001b[0m\u001b[0;34m.\u001b[0m\u001b[0mload\u001b[0m\u001b[0;34m(\u001b[0m\u001b[0mfid\u001b[0m\u001b[0;34m,\u001b[0m \u001b[0;34m**\u001b[0m\u001b[0mpickle_kwargs\u001b[0m\u001b[0;34m)\u001b[0m\u001b[0;34m\u001b[0m\u001b[0;34m\u001b[0m\u001b[0m\n\u001b[0m\u001b[1;32m    448\u001b[0m             \u001b[0;32mexcept\u001b[0m \u001b[0mException\u001b[0m\u001b[0;34m:\u001b[0m\u001b[0;34m\u001b[0m\u001b[0;34m\u001b[0m\u001b[0m\n",
            "\u001b[0;31mEOFError\u001b[0m: Ran out of input",
            "\nDuring handling of the above exception, another exception occurred:\n",
            "\u001b[0;31mOSError\u001b[0m                                   Traceback (most recent call last)",
            "\u001b[0;32m<ipython-input-23-e46deb0f58ef>\u001b[0m in \u001b[0;36m<module>\u001b[0;34m()\u001b[0m\n\u001b[1;32m      1\u001b[0m \u001b[0;31m# Pre-processed MEL SPEC coefficients\u001b[0m\u001b[0;34m\u001b[0m\u001b[0;34m\u001b[0m\u001b[0;34m\u001b[0m\u001b[0m\n\u001b[0;32m----> 2\u001b[0;31m \u001b[0mX\u001b[0m \u001b[0;34m=\u001b[0m \u001b[0mnp\u001b[0m\u001b[0;34m.\u001b[0m\u001b[0mload\u001b[0m\u001b[0;34m(\u001b[0m\u001b[0;34m'drive/MyDrive/CNN/Training Data/UrbanSound8K/data/mel_spec/X-mel_spec-augmented.npy'\u001b[0m\u001b[0;34m,\u001b[0m\u001b[0mallow_pickle\u001b[0m\u001b[0;34m=\u001b[0m\u001b[0;32mTrue\u001b[0m\u001b[0;34m)\u001b[0m\u001b[0;34m\u001b[0m\u001b[0;34m\u001b[0m\u001b[0m\n\u001b[0m\u001b[1;32m      3\u001b[0m \u001b[0my\u001b[0m \u001b[0;34m=\u001b[0m \u001b[0mnp\u001b[0m\u001b[0;34m.\u001b[0m\u001b[0mload\u001b[0m\u001b[0;34m(\u001b[0m\u001b[0;34m'drive/MyDrive/CNN/Training Data/UrbanSound8K/data/mel_spec/y-mel_spec-augmented.npy'\u001b[0m\u001b[0;34m,\u001b[0m\u001b[0mallow_pickle\u001b[0m\u001b[0;34m=\u001b[0m\u001b[0;32mTrue\u001b[0m\u001b[0;34m)\u001b[0m\u001b[0;34m\u001b[0m\u001b[0;34m\u001b[0m\u001b[0m\n\u001b[1;32m      4\u001b[0m \u001b[0;34m\u001b[0m\u001b[0m\n\u001b[1;32m      5\u001b[0m \u001b[0;34m\u001b[0m\u001b[0m\n",
            "\u001b[0;32m/usr/local/lib/python3.7/dist-packages/numpy/lib/npyio.py\u001b[0m in \u001b[0;36mload\u001b[0;34m(file, mmap_mode, allow_pickle, fix_imports, encoding)\u001b[0m\n\u001b[1;32m    448\u001b[0m             \u001b[0;32mexcept\u001b[0m \u001b[0mException\u001b[0m\u001b[0;34m:\u001b[0m\u001b[0;34m\u001b[0m\u001b[0;34m\u001b[0m\u001b[0m\n\u001b[1;32m    449\u001b[0m                 raise IOError(\n\u001b[0;32m--> 450\u001b[0;31m                     \"Failed to interpret file %s as a pickle\" % repr(file))\n\u001b[0m\u001b[1;32m    451\u001b[0m \u001b[0;34m\u001b[0m\u001b[0m\n\u001b[1;32m    452\u001b[0m \u001b[0;34m\u001b[0m\u001b[0m\n",
            "\u001b[0;31mOSError\u001b[0m: Failed to interpret file 'drive/MyDrive/CNN/Training Data/UrbanSound8K/data/mel_spec/X-mel_spec-augmented.npy' as a pickle"
          ]
        }
      ]
    },
    {
      "cell_type": "code",
      "metadata": {
        "colab": {
          "base_uri": "https://localhost:8080/"
        },
        "id": "806msKm5HcH7",
        "outputId": "ff7d2b82-278d-49ff-83cd-cb7ffb5b1cd1"
      },
      "source": [
        "print(X.shape)"
      ],
      "execution_count": null,
      "outputs": [
        {
          "output_type": "stream",
          "text": [
            "(69856, 40, 174)\n"
          ],
          "name": "stdout"
        }
      ]
    },
    {
      "cell_type": "markdown",
      "metadata": {
        "nbpresent": {
          "id": "f8043a00-6bfa-41ca-807f-a49d7430b65a"
        },
        "id": "Vd0Q-lXAu1U_"
      },
      "source": [
        "### 1. Data preparation: features + metadata"
      ]
    },
    {
      "cell_type": "markdown",
      "metadata": {
        "id": "o5zZY7B-u1VA"
      },
      "source": [
        "#### 1.1 Train / Test split\n",
        "\n",
        "We are doing split data with the mentioned criteria in an extremely simple fashion: splitting 20% of the augmented dataset into test and then removing all reference to augmented samples from it. We'll end up with an amount of test data that will always be around 1700+ samples.<br/>\n",
        "<br/>"
      ]
    },
    {
      "cell_type": "code",
      "metadata": {
        "id": "8--p_yHEu1VA",
        "colab": {
          "base_uri": "https://localhost:8080/",
          "height": 239
        },
        "outputId": "388f3cbe-5e7c-4857-dfba-afb36218df69"
      },
      "source": [
        "indexes = []\n",
        "total = len(aug_metadata)\n",
        "indexes = list(range(0, total))\n",
        "\n",
        "# Randomize indexes\n",
        "random.shuffle(indexes)\n",
        "\n",
        "# Divide the indexes into Train and Test\n",
        "test_split_pct = 20\n",
        "split_offset = math.floor(test_split_pct * total / 100)\n",
        "\n",
        "# Split the metadata\n",
        "test_split_idx = indexes[0:split_offset]\n",
        "train_split_idx = indexes[split_offset:total]\n",
        "\n",
        "# Split metadata\n",
        "test_meta = aug_metadata.iloc[test_split_idx]\n",
        "train_meta = aug_metadata.iloc[train_split_idx]\n",
        "\n",
        "#print(len(test_split_idx))\n",
        "#print(len(train_split_idx))\n",
        "\n",
        "# Remove augmented data from test metadata split\n",
        "test_meta = test_meta[test_meta['augment'] != 'none']\n",
        "aug_on_test_idx = test_meta.index.tolist()\n",
        "\n",
        "print(len(test_meta))\n",
        "print(len(aug_on_test_idx))\n",
        "\n",
        "# Split the features with the same indexes\n",
        "X_test = np.take(X, aug_on_test_idx, axis=0)\n",
        "y_test = np.take(y, aug_on_test_idx, axis=0)\n",
        "X_train = np.take(X, train_split_idx, axis=0)\n",
        "y_train = np.take(y, train_split_idx, axis=0)\n",
        "print(X_test.shape)\n",
        "print(X.shape)\n",
        "\n",
        "# Print status\n",
        "#print(\"Test split: {} \\t\\t Train split: {}\".format(len(test_meta)-len(aug_on_test_idx), len(train_meta)))\n",
        "#print(\"X test shape: {} \\t X train shape: {}\".format(X_test.shape, X_train.shape))\n",
        "#print(\"y test shape: {} \\t\\t y train shape: {}\".format(y_test.shape, y_train.shape))\n"
      ],
      "execution_count": null,
      "outputs": [
        {
          "output_type": "error",
          "ename": "NameError",
          "evalue": "ignored",
          "traceback": [
            "\u001b[0;31m---------------------------------------------------------------------------\u001b[0m",
            "\u001b[0;31mNameError\u001b[0m                                 Traceback (most recent call last)",
            "\u001b[0;32m<ipython-input-1-ad2ac3e955c8>\u001b[0m in \u001b[0;36m<module>\u001b[0;34m()\u001b[0m\n\u001b[1;32m      1\u001b[0m \u001b[0mindexes\u001b[0m \u001b[0;34m=\u001b[0m \u001b[0;34m[\u001b[0m\u001b[0;34m]\u001b[0m\u001b[0;34m\u001b[0m\u001b[0;34m\u001b[0m\u001b[0m\n\u001b[0;32m----> 2\u001b[0;31m \u001b[0mtotal\u001b[0m \u001b[0;34m=\u001b[0m \u001b[0mlen\u001b[0m\u001b[0;34m(\u001b[0m\u001b[0maug_metadata\u001b[0m\u001b[0;34m)\u001b[0m\u001b[0;34m\u001b[0m\u001b[0;34m\u001b[0m\u001b[0m\n\u001b[0m\u001b[1;32m      3\u001b[0m \u001b[0mindexes\u001b[0m \u001b[0;34m=\u001b[0m \u001b[0mlist\u001b[0m\u001b[0;34m(\u001b[0m\u001b[0mrange\u001b[0m\u001b[0;34m(\u001b[0m\u001b[0;36m0\u001b[0m\u001b[0;34m,\u001b[0m \u001b[0mtotal\u001b[0m\u001b[0;34m)\u001b[0m\u001b[0;34m)\u001b[0m\u001b[0;34m\u001b[0m\u001b[0;34m\u001b[0m\u001b[0m\n\u001b[1;32m      4\u001b[0m \u001b[0;34m\u001b[0m\u001b[0m\n\u001b[1;32m      5\u001b[0m \u001b[0;31m# Randomize indexes\u001b[0m\u001b[0;34m\u001b[0m\u001b[0;34m\u001b[0m\u001b[0;34m\u001b[0m\u001b[0m\n",
            "\u001b[0;31mNameError\u001b[0m: name 'aug_metadata' is not defined"
          ]
        }
      ]
    },
    {
      "cell_type": "markdown",
      "metadata": {
        "id": "jQOezxJMu1VB"
      },
      "source": [
        "#### 1.2 One hot encode labels"
      ]
    },
    {
      "cell_type": "code",
      "metadata": {
        "nbpresent": {
          "id": "65b227e7-2fe5-4582-bd79-c9e9b1b85d4e"
        },
        "id": "Fos_yxR1u1VC"
      },
      "source": [
        "le = LabelEncoder()\n",
        "y_test_encoded = to_categorical(le.fit_transform(y_test))\n",
        "y_train_encoded = to_categorical(le.fit_transform(y_train))"
      ],
      "execution_count": null,
      "outputs": []
    },
    {
      "cell_type": "markdown",
      "metadata": {
        "nbpresent": {
          "id": "720605ff-4689-47dc-b142-023ea206a50c"
        },
        "id": "2mR6w0SCu1VC"
      },
      "source": [
        "#### 1.3 Reshape data"
      ]
    },
    {
      "cell_type": "code",
      "metadata": {
        "nbpresent": {
          "id": "d742676a-5a23-4fc8-856a-ad5505238d45"
        },
        "id": "jGTld4E1u1VD",
        "colab": {
          "base_uri": "https://localhost:8080/"
        },
        "outputId": "d700434c-c6fe-4838-ef55-3500dc6956cf"
      },
      "source": [
        "# How data should be organized\n",
        "num_rows = 40\n",
        "num_columns = 174\n",
        "num_channels = 1\n",
        "\n",
        "# Reshape to fit the network input (channel last!)\n",
        "X_train = X_train.reshape(X_train.shape[0], num_rows, num_columns, num_channels)\n",
        "X_test = X_test.reshape(X_test.shape[0], num_rows, num_columns, num_channels)\n",
        "\n",
        "print(X_test.shape)\n",
        "# Total number of labels to predict (equal to the network output nodes)\n",
        "num_labels = y_train_encoded.shape[1]\n"
      ],
      "execution_count": null,
      "outputs": [
        {
          "output_type": "stream",
          "text": [
            "(12206, 40, 174, 1)\n"
          ],
          "name": "stdout"
        }
      ]
    },
    {
      "cell_type": "markdown",
      "metadata": {
        "nbpresent": {
          "id": "23ae43f0-1d59-44ab-818d-54faeecf4f1c"
        },
        "id": "l4wjRMs6u1VD"
      },
      "source": [
        "### 2. Basic CNN model\n",
        "\n",
        "We are using the exact same model than the previous notebooks\n",
        "\n",
        "#### 2.1 Model definition"
      ]
    },
    {
      "cell_type": "code",
      "metadata": {
        "nbpresent": {
          "id": "845659a2-b4b4-4380-8d8f-51144a91ccab"
        },
        "scrolled": false,
        "id": "qe1DxR2lu1VD"
      },
      "source": [
        "def create_model(spatial_dropout_rate_1=0, spatial_dropout_rate_2=0, l2_rate=0):\n",
        "\n",
        "    # Create a secquential object\n",
        "    model = Sequential()\n",
        "\n",
        "\n",
        "    # Conv 1\n",
        "    model.add(Conv2D(filters=32, \n",
        "                     kernel_size=(3, 3), \n",
        "                     kernel_regularizer=l2(l2_rate), \n",
        "                     input_shape=(num_rows, num_columns, num_channels)))\n",
        "    model.add(LeakyReLU(alpha=0.1))\n",
        "    model.add(BatchNormalization())\n",
        "\n",
        "    model.add(SpatialDropout2D(spatial_dropout_rate_1))\n",
        "    model.add(Conv2D(filters=32, \n",
        "                     kernel_size=(3, 3), \n",
        "                     kernel_regularizer=l2(l2_rate)))\n",
        "    model.add(LeakyReLU(alpha=0.1))\n",
        "    model.add(BatchNormalization())\n",
        "\n",
        "\n",
        "    # Max Pooling #1\n",
        "    model.add(MaxPooling2D(pool_size=(2, 2)))\n",
        "\n",
        "    model.add(SpatialDropout2D(spatial_dropout_rate_1))\n",
        "    model.add(Conv2D(filters=64, \n",
        "                     kernel_size=(3, 3), \n",
        "                     kernel_regularizer=l2(l2_rate)))\n",
        "    model.add(LeakyReLU(alpha=0.1))\n",
        "    model.add(BatchNormalization())\n",
        "\n",
        "    model.add(SpatialDropout2D(spatial_dropout_rate_2))\n",
        "    model.add(Conv2D(filters=64, \n",
        "                     kernel_size=(3,3), \n",
        "                     kernel_regularizer=l2(l2_rate)))\n",
        "    model.add(LeakyReLU(alpha=0.1))\n",
        "    model.add(BatchNormalization())\n",
        "\n",
        "\n",
        "    # Reduces each h×w feature map to a single number by taking the average of all h,w values.\n",
        "    model.add(GlobalAveragePooling2D())\n",
        "\n",
        "    # Softmax output\n",
        "    model.add(Dense(num_labels, activation='softmax'))\n",
        "    \n",
        "    return model\n",
        "\n",
        "# Regularization rates\n",
        "spatial_dropout_rate_1 = 0.07\n",
        "spatial_dropout_rate_2 = 0.14\n",
        "l2_rate = 0.001\n",
        "\n",
        "model = create_model(spatial_dropout_rate_1, spatial_dropout_rate_2, l2_rate)"
      ],
      "execution_count": null,
      "outputs": []
    },
    {
      "cell_type": "markdown",
      "metadata": {
        "id": "ruyIe9Lru1VD"
      },
      "source": [
        "#### 2.2 Setup model optimizer and loss function"
      ]
    },
    {
      "cell_type": "code",
      "metadata": {
        "id": "HF4eXNp9u1VD",
        "colab": {
          "base_uri": "https://localhost:8080/"
        },
        "outputId": "4c175cc6-e41e-4bf7-b8d8-582d46b0a588"
      },
      "source": [
        "adam = Adam(lr=1e-4, beta_1=0.99, beta_2=0.999)\n",
        "model.compile(\n",
        "    loss='categorical_crossentropy', \n",
        "    metrics=['accuracy'], \n",
        "    optimizer=adam)\n",
        "\n",
        "# Display model architecture summary \n",
        "model.summary()"
      ],
      "execution_count": null,
      "outputs": [
        {
          "output_type": "stream",
          "text": [
            "Model: \"sequential\"\n",
            "_________________________________________________________________\n",
            "Layer (type)                 Output Shape              Param #   \n",
            "=================================================================\n",
            "conv2d (Conv2D)              (None, 38, 172, 32)       320       \n",
            "_________________________________________________________________\n",
            "leaky_re_lu (LeakyReLU)      (None, 38, 172, 32)       0         \n",
            "_________________________________________________________________\n",
            "batch_normalization (BatchNo (None, 38, 172, 32)       128       \n",
            "_________________________________________________________________\n",
            "spatial_dropout2d (SpatialDr (None, 38, 172, 32)       0         \n",
            "_________________________________________________________________\n",
            "conv2d_1 (Conv2D)            (None, 36, 170, 32)       9248      \n",
            "_________________________________________________________________\n",
            "leaky_re_lu_1 (LeakyReLU)    (None, 36, 170, 32)       0         \n",
            "_________________________________________________________________\n",
            "batch_normalization_1 (Batch (None, 36, 170, 32)       128       \n",
            "_________________________________________________________________\n",
            "max_pooling2d (MaxPooling2D) (None, 18, 85, 32)        0         \n",
            "_________________________________________________________________\n",
            "spatial_dropout2d_1 (Spatial (None, 18, 85, 32)        0         \n",
            "_________________________________________________________________\n",
            "conv2d_2 (Conv2D)            (None, 16, 83, 64)        18496     \n",
            "_________________________________________________________________\n",
            "leaky_re_lu_2 (LeakyReLU)    (None, 16, 83, 64)        0         \n",
            "_________________________________________________________________\n",
            "batch_normalization_2 (Batch (None, 16, 83, 64)        256       \n",
            "_________________________________________________________________\n",
            "spatial_dropout2d_2 (Spatial (None, 16, 83, 64)        0         \n",
            "_________________________________________________________________\n",
            "conv2d_3 (Conv2D)            (None, 14, 81, 64)        36928     \n",
            "_________________________________________________________________\n",
            "leaky_re_lu_3 (LeakyReLU)    (None, 14, 81, 64)        0         \n",
            "_________________________________________________________________\n",
            "batch_normalization_3 (Batch (None, 14, 81, 64)        256       \n",
            "_________________________________________________________________\n",
            "global_average_pooling2d (Gl (None, 64)                0         \n",
            "_________________________________________________________________\n",
            "dense (Dense)                (None, 10)                650       \n",
            "=================================================================\n",
            "Total params: 66,410\n",
            "Trainable params: 66,026\n",
            "Non-trainable params: 384\n",
            "_________________________________________________________________\n"
          ],
          "name": "stdout"
        },
        {
          "output_type": "stream",
          "text": [
            "/usr/local/lib/python3.7/dist-packages/tensorflow/python/keras/optimizer_v2/optimizer_v2.py:375: UserWarning: The `lr` argument is deprecated, use `learning_rate` instead.\n",
            "  \"The `lr` argument is deprecated, use `learning_rate` instead.\")\n"
          ],
          "name": "stderr"
        }
      ]
    },
    {
      "cell_type": "markdown",
      "metadata": {
        "id": "MUrsYLe1u1VE"
      },
      "source": [
        "#### 2.3 Compile model"
      ]
    },
    {
      "cell_type": "code",
      "metadata": {
        "scrolled": true,
        "id": "y8GkU6Uku1VE",
        "colab": {
          "base_uri": "https://localhost:8080/"
        },
        "outputId": "7b6f3e57-abb5-4a75-e19b-014c49049862"
      },
      "source": [
        "num_epochs = 48\n",
        "num_batch_size = 128\n",
        "model_file = 'aug-train-nb3.hdf5'\n",
        "model_path = os.path.join(models_path, model_file)\n",
        "\n",
        "\n",
        "# Save checkpoints\n",
        "checkpointer = ModelCheckpoint(filepath=model_path, \n",
        "                               verbose=1, \n",
        "                               save_best_only=True)\n",
        "start = datetime.now()\n",
        "history = model.fit(X_train, \n",
        "                    y_train_encoded, \n",
        "                    batch_size=num_batch_size, \n",
        "                    epochs=num_epochs, \n",
        "                    validation_split=1/12.,\n",
        "                    callbacks=[checkpointer], \n",
        "                    verbose=1)\n",
        "\n",
        "duration = datetime.now() - start\n",
        "\n",
        "print(\"Training completed in time: \", duration)"
      ],
      "execution_count": null,
      "outputs": [
        {
          "output_type": "stream",
          "text": [
            "Epoch 1/48\n",
            "401/401 [==============================] - 34s 80ms/step - loss: 1.6090 - accuracy: 0.4957 - val_loss: 1.5022 - val_accuracy: 0.5425\n",
            "\n",
            "Epoch 00001: val_loss improved from inf to 1.50225, saving model to /content/drive/MyDrive/CNN/Training\\ Data/UrbanSound8K/models/aug-train-nb3.hdf5\n",
            "Epoch 2/48\n",
            "401/401 [==============================] - 30s 75ms/step - loss: 1.4076 - accuracy: 0.5642 - val_loss: 1.2041 - val_accuracy: 0.6436\n",
            "\n",
            "Epoch 00002: val_loss improved from 1.50225 to 1.20409, saving model to /content/drive/MyDrive/CNN/Training\\ Data/UrbanSound8K/models/aug-train-nb3.hdf5\n",
            "Epoch 3/48\n",
            "401/401 [==============================] - 30s 75ms/step - loss: 1.2770 - accuracy: 0.6080 - val_loss: 1.0939 - val_accuracy: 0.7108\n",
            "\n",
            "Epoch 00003: val_loss improved from 1.20409 to 1.09387, saving model to /content/drive/MyDrive/CNN/Training\\ Data/UrbanSound8K/models/aug-train-nb3.hdf5\n",
            "Epoch 4/48\n",
            "401/401 [==============================] - 30s 75ms/step - loss: 1.1865 - accuracy: 0.6446 - val_loss: 1.0158 - val_accuracy: 0.7334\n",
            "\n",
            "Epoch 00004: val_loss improved from 1.09387 to 1.01584, saving model to /content/drive/MyDrive/CNN/Training\\ Data/UrbanSound8K/models/aug-train-nb3.hdf5\n",
            "Epoch 5/48\n",
            "401/401 [==============================] - 30s 75ms/step - loss: 1.1239 - accuracy: 0.6699 - val_loss: 0.9680 - val_accuracy: 0.7469\n",
            "\n",
            "Epoch 00005: val_loss improved from 1.01584 to 0.96801, saving model to /content/drive/MyDrive/CNN/Training\\ Data/UrbanSound8K/models/aug-train-nb3.hdf5\n",
            "Epoch 6/48\n",
            "401/401 [==============================] - 30s 75ms/step - loss: 1.0590 - accuracy: 0.6937 - val_loss: 0.8938 - val_accuracy: 0.7716\n",
            "\n",
            "Epoch 00006: val_loss improved from 0.96801 to 0.89375, saving model to /content/drive/MyDrive/CNN/Training\\ Data/UrbanSound8K/models/aug-train-nb3.hdf5\n",
            "Epoch 7/48\n",
            "401/401 [==============================] - 30s 75ms/step - loss: 1.0082 - accuracy: 0.7127 - val_loss: 0.8479 - val_accuracy: 0.7819\n",
            "\n",
            "Epoch 00007: val_loss improved from 0.89375 to 0.84789, saving model to /content/drive/MyDrive/CNN/Training\\ Data/UrbanSound8K/models/aug-train-nb3.hdf5\n",
            "Epoch 8/48\n",
            "401/401 [==============================] - 30s 75ms/step - loss: 0.9565 - accuracy: 0.7320 - val_loss: 0.8163 - val_accuracy: 0.7868\n",
            "\n",
            "Epoch 00008: val_loss improved from 0.84789 to 0.81629, saving model to /content/drive/MyDrive/CNN/Training\\ Data/UrbanSound8K/models/aug-train-nb3.hdf5\n",
            "Epoch 9/48\n",
            "401/401 [==============================] - 30s 75ms/step - loss: 0.9230 - accuracy: 0.7453 - val_loss: 0.7748 - val_accuracy: 0.8014\n",
            "\n",
            "Epoch 00009: val_loss improved from 0.81629 to 0.77478, saving model to /content/drive/MyDrive/CNN/Training\\ Data/UrbanSound8K/models/aug-train-nb3.hdf5\n",
            "Epoch 10/48\n",
            "401/401 [==============================] - 30s 75ms/step - loss: 0.8812 - accuracy: 0.7578 - val_loss: 0.7329 - val_accuracy: 0.8242\n",
            "\n",
            "Epoch 00010: val_loss improved from 0.77478 to 0.73292, saving model to /content/drive/MyDrive/CNN/Training\\ Data/UrbanSound8K/models/aug-train-nb3.hdf5\n",
            "Epoch 11/48\n",
            "401/401 [==============================] - 30s 75ms/step - loss: 0.8583 - accuracy: 0.7652 - val_loss: 0.7003 - val_accuracy: 0.8231\n",
            "\n",
            "Epoch 00011: val_loss improved from 0.73292 to 0.70028, saving model to /content/drive/MyDrive/CNN/Training\\ Data/UrbanSound8K/models/aug-train-nb3.hdf5\n",
            "Epoch 12/48\n",
            "401/401 [==============================] - 30s 75ms/step - loss: 0.8128 - accuracy: 0.7787 - val_loss: 0.6791 - val_accuracy: 0.8293\n",
            "\n",
            "Epoch 00012: val_loss improved from 0.70028 to 0.67910, saving model to /content/drive/MyDrive/CNN/Training\\ Data/UrbanSound8K/models/aug-train-nb3.hdf5\n",
            "Epoch 13/48\n",
            "401/401 [==============================] - 30s 76ms/step - loss: 0.7962 - accuracy: 0.7849 - val_loss: 0.6478 - val_accuracy: 0.8411\n",
            "\n",
            "Epoch 00013: val_loss improved from 0.67910 to 0.64779, saving model to /content/drive/MyDrive/CNN/Training\\ Data/UrbanSound8K/models/aug-train-nb3.hdf5\n",
            "Epoch 14/48\n",
            "401/401 [==============================] - 31s 76ms/step - loss: 0.7689 - accuracy: 0.7921 - val_loss: 0.6211 - val_accuracy: 0.8514\n",
            "\n",
            "Epoch 00014: val_loss improved from 0.64779 to 0.62115, saving model to /content/drive/MyDrive/CNN/Training\\ Data/UrbanSound8K/models/aug-train-nb3.hdf5\n",
            "Epoch 15/48\n",
            "401/401 [==============================] - 30s 76ms/step - loss: 0.7378 - accuracy: 0.8023 - val_loss: 0.5965 - val_accuracy: 0.8557\n",
            "\n",
            "Epoch 00015: val_loss improved from 0.62115 to 0.59650, saving model to /content/drive/MyDrive/CNN/Training\\ Data/UrbanSound8K/models/aug-train-nb3.hdf5\n",
            "Epoch 16/48\n",
            "401/401 [==============================] - 31s 76ms/step - loss: 0.7092 - accuracy: 0.8106 - val_loss: 0.5715 - val_accuracy: 0.8675\n",
            "\n",
            "Epoch 00016: val_loss improved from 0.59650 to 0.57153, saving model to /content/drive/MyDrive/CNN/Training\\ Data/UrbanSound8K/models/aug-train-nb3.hdf5\n",
            "Epoch 17/48\n",
            "401/401 [==============================] - 31s 76ms/step - loss: 0.6927 - accuracy: 0.8153 - val_loss: 0.5467 - val_accuracy: 0.8712\n",
            "\n",
            "Epoch 00017: val_loss improved from 0.57153 to 0.54667, saving model to /content/drive/MyDrive/CNN/Training\\ Data/UrbanSound8K/models/aug-train-nb3.hdf5\n",
            "Epoch 18/48\n",
            "401/401 [==============================] - 30s 76ms/step - loss: 0.6796 - accuracy: 0.8209 - val_loss: 0.5339 - val_accuracy: 0.8720\n",
            "\n",
            "Epoch 00018: val_loss improved from 0.54667 to 0.53391, saving model to /content/drive/MyDrive/CNN/Training\\ Data/UrbanSound8K/models/aug-train-nb3.hdf5\n",
            "Epoch 19/48\n",
            "401/401 [==============================] - 30s 76ms/step - loss: 0.6591 - accuracy: 0.8243 - val_loss: 0.5189 - val_accuracy: 0.8772\n",
            "\n",
            "Epoch 00019: val_loss improved from 0.53391 to 0.51893, saving model to /content/drive/MyDrive/CNN/Training\\ Data/UrbanSound8K/models/aug-train-nb3.hdf5\n",
            "Epoch 20/48\n",
            "401/401 [==============================] - 31s 76ms/step - loss: 0.6426 - accuracy: 0.8293 - val_loss: 0.5001 - val_accuracy: 0.8798\n",
            "\n",
            "Epoch 00020: val_loss improved from 0.51893 to 0.50008, saving model to /content/drive/MyDrive/CNN/Training\\ Data/UrbanSound8K/models/aug-train-nb3.hdf5\n",
            "Epoch 21/48\n",
            "401/401 [==============================] - 31s 76ms/step - loss: 0.6189 - accuracy: 0.8401 - val_loss: 0.4850 - val_accuracy: 0.8832\n",
            "\n",
            "Epoch 00021: val_loss improved from 0.50008 to 0.48505, saving model to /content/drive/MyDrive/CNN/Training\\ Data/UrbanSound8K/models/aug-train-nb3.hdf5\n",
            "Epoch 22/48\n",
            "401/401 [==============================] - 31s 76ms/step - loss: 0.6115 - accuracy: 0.8368 - val_loss: 0.4690 - val_accuracy: 0.8907\n",
            "\n",
            "Epoch 00022: val_loss improved from 0.48505 to 0.46898, saving model to /content/drive/MyDrive/CNN/Training\\ Data/UrbanSound8K/models/aug-train-nb3.hdf5\n",
            "Epoch 23/48\n",
            "401/401 [==============================] - 31s 76ms/step - loss: 0.5948 - accuracy: 0.8442 - val_loss: 0.4540 - val_accuracy: 0.8942\n",
            "\n",
            "Epoch 00023: val_loss improved from 0.46898 to 0.45398, saving model to /content/drive/MyDrive/CNN/Training\\ Data/UrbanSound8K/models/aug-train-nb3.hdf5\n",
            "Epoch 24/48\n",
            "401/401 [==============================] - 31s 76ms/step - loss: 0.5672 - accuracy: 0.8528 - val_loss: 0.4503 - val_accuracy: 0.8954\n",
            "\n",
            "Epoch 00024: val_loss improved from 0.45398 to 0.45032, saving model to /content/drive/MyDrive/CNN/Training\\ Data/UrbanSound8K/models/aug-train-nb3.hdf5\n",
            "Epoch 25/48\n",
            "401/401 [==============================] - 31s 76ms/step - loss: 0.5596 - accuracy: 0.8533 - val_loss: 0.4289 - val_accuracy: 0.9045\n",
            "\n",
            "Epoch 00025: val_loss improved from 0.45032 to 0.42886, saving model to /content/drive/MyDrive/CNN/Training\\ Data/UrbanSound8K/models/aug-train-nb3.hdf5\n",
            "Epoch 26/48\n",
            "401/401 [==============================] - 31s 76ms/step - loss: 0.5501 - accuracy: 0.8558 - val_loss: 0.4218 - val_accuracy: 0.9012\n",
            "\n",
            "Epoch 00026: val_loss improved from 0.42886 to 0.42180, saving model to /content/drive/MyDrive/CNN/Training\\ Data/UrbanSound8K/models/aug-train-nb3.hdf5\n",
            "Epoch 27/48\n",
            "401/401 [==============================] - 31s 76ms/step - loss: 0.5296 - accuracy: 0.8605 - val_loss: 0.4094 - val_accuracy: 0.9062\n",
            "\n",
            "Epoch 00027: val_loss improved from 0.42180 to 0.40938, saving model to /content/drive/MyDrive/CNN/Training\\ Data/UrbanSound8K/models/aug-train-nb3.hdf5\n",
            "Epoch 28/48\n",
            "401/401 [==============================] - 31s 77ms/step - loss: 0.5258 - accuracy: 0.8653 - val_loss: 0.4017 - val_accuracy: 0.9070\n",
            "\n",
            "Epoch 00028: val_loss improved from 0.40938 to 0.40167, saving model to /content/drive/MyDrive/CNN/Training\\ Data/UrbanSound8K/models/aug-train-nb3.hdf5\n",
            "Epoch 29/48\n",
            "401/401 [==============================] - 31s 76ms/step - loss: 0.5103 - accuracy: 0.8663 - val_loss: 0.3897 - val_accuracy: 0.9103\n",
            "\n",
            "Epoch 00029: val_loss improved from 0.40167 to 0.38966, saving model to /content/drive/MyDrive/CNN/Training\\ Data/UrbanSound8K/models/aug-train-nb3.hdf5\n",
            "Epoch 30/48\n",
            "401/401 [==============================] - 31s 76ms/step - loss: 0.4978 - accuracy: 0.8703 - val_loss: 0.3789 - val_accuracy: 0.9165\n",
            "\n",
            "Epoch 00030: val_loss improved from 0.38966 to 0.37893, saving model to /content/drive/MyDrive/CNN/Training\\ Data/UrbanSound8K/models/aug-train-nb3.hdf5\n",
            "Epoch 31/48\n",
            "401/401 [==============================] - 31s 76ms/step - loss: 0.4941 - accuracy: 0.8735 - val_loss: 0.3736 - val_accuracy: 0.9163\n",
            "\n",
            "Epoch 00031: val_loss improved from 0.37893 to 0.37356, saving model to /content/drive/MyDrive/CNN/Training\\ Data/UrbanSound8K/models/aug-train-nb3.hdf5\n",
            "Epoch 32/48\n",
            "401/401 [==============================] - 30s 76ms/step - loss: 0.4796 - accuracy: 0.8762 - val_loss: 0.3570 - val_accuracy: 0.9244\n",
            "\n",
            "Epoch 00032: val_loss improved from 0.37356 to 0.35698, saving model to /content/drive/MyDrive/CNN/Training\\ Data/UrbanSound8K/models/aug-train-nb3.hdf5\n",
            "Epoch 33/48\n",
            "401/401 [==============================] - 31s 76ms/step - loss: 0.4685 - accuracy: 0.8788 - val_loss: 0.3489 - val_accuracy: 0.9251\n",
            "\n",
            "Epoch 00033: val_loss improved from 0.35698 to 0.34891, saving model to /content/drive/MyDrive/CNN/Training\\ Data/UrbanSound8K/models/aug-train-nb3.hdf5\n",
            "Epoch 34/48\n",
            "401/401 [==============================] - 31s 76ms/step - loss: 0.4557 - accuracy: 0.8816 - val_loss: 0.3468 - val_accuracy: 0.9227\n",
            "\n",
            "Epoch 00034: val_loss improved from 0.34891 to 0.34677, saving model to /content/drive/MyDrive/CNN/Training\\ Data/UrbanSound8K/models/aug-train-nb3.hdf5\n",
            "Epoch 35/48\n",
            "401/401 [==============================] - 31s 77ms/step - loss: 0.4459 - accuracy: 0.8876 - val_loss: 0.3369 - val_accuracy: 0.9238\n",
            "\n",
            "Epoch 00035: val_loss improved from 0.34677 to 0.33690, saving model to /content/drive/MyDrive/CNN/Training\\ Data/UrbanSound8K/models/aug-train-nb3.hdf5\n",
            "Epoch 36/48\n",
            "401/401 [==============================] - 31s 76ms/step - loss: 0.4410 - accuracy: 0.8876 - val_loss: 0.3265 - val_accuracy: 0.9324\n",
            "\n",
            "Epoch 00036: val_loss improved from 0.33690 to 0.32651, saving model to /content/drive/MyDrive/CNN/Training\\ Data/UrbanSound8K/models/aug-train-nb3.hdf5\n",
            "Epoch 37/48\n",
            "401/401 [==============================] - 31s 76ms/step - loss: 0.4320 - accuracy: 0.8898 - val_loss: 0.3209 - val_accuracy: 0.9302\n",
            "\n",
            "Epoch 00037: val_loss improved from 0.32651 to 0.32095, saving model to /content/drive/MyDrive/CNN/Training\\ Data/UrbanSound8K/models/aug-train-nb3.hdf5\n",
            "Epoch 38/48\n",
            "401/401 [==============================] - 31s 76ms/step - loss: 0.4225 - accuracy: 0.8926 - val_loss: 0.3145 - val_accuracy: 0.9319\n",
            "\n",
            "Epoch 00038: val_loss improved from 0.32095 to 0.31449, saving model to /content/drive/MyDrive/CNN/Training\\ Data/UrbanSound8K/models/aug-train-nb3.hdf5\n",
            "Epoch 39/48\n",
            "401/401 [==============================] - 31s 76ms/step - loss: 0.4187 - accuracy: 0.8936 - val_loss: 0.3114 - val_accuracy: 0.9334\n",
            "\n",
            "Epoch 00039: val_loss improved from 0.31449 to 0.31142, saving model to /content/drive/MyDrive/CNN/Training\\ Data/UrbanSound8K/models/aug-train-nb3.hdf5\n",
            "Epoch 40/48\n",
            "401/401 [==============================] - 31s 77ms/step - loss: 0.4086 - accuracy: 0.8968 - val_loss: 0.3024 - val_accuracy: 0.9377\n",
            "\n",
            "Epoch 00040: val_loss improved from 0.31142 to 0.30243, saving model to /content/drive/MyDrive/CNN/Training\\ Data/UrbanSound8K/models/aug-train-nb3.hdf5\n",
            "Epoch 41/48\n",
            "401/401 [==============================] - 31s 78ms/step - loss: 0.3956 - accuracy: 0.9009 - val_loss: 0.2963 - val_accuracy: 0.9377\n",
            "\n",
            "Epoch 00041: val_loss improved from 0.30243 to 0.29634, saving model to /content/drive/MyDrive/CNN/Training\\ Data/UrbanSound8K/models/aug-train-nb3.hdf5\n",
            "Epoch 42/48\n",
            "401/401 [==============================] - 31s 76ms/step - loss: 0.3918 - accuracy: 0.9001 - val_loss: 0.2892 - val_accuracy: 0.9399\n",
            "\n",
            "Epoch 00042: val_loss improved from 0.29634 to 0.28925, saving model to /content/drive/MyDrive/CNN/Training\\ Data/UrbanSound8K/models/aug-train-nb3.hdf5\n",
            "Epoch 43/48\n",
            "401/401 [==============================] - 31s 76ms/step - loss: 0.3897 - accuracy: 0.8999 - val_loss: 0.2779 - val_accuracy: 0.9444\n",
            "\n",
            "Epoch 00043: val_loss improved from 0.28925 to 0.27788, saving model to /content/drive/MyDrive/CNN/Training\\ Data/UrbanSound8K/models/aug-train-nb3.hdf5\n",
            "Epoch 44/48\n",
            "401/401 [==============================] - 31s 76ms/step - loss: 0.3817 - accuracy: 0.9028 - val_loss: 0.2754 - val_accuracy: 0.9433\n",
            "\n",
            "Epoch 00044: val_loss improved from 0.27788 to 0.27535, saving model to /content/drive/MyDrive/CNN/Training\\ Data/UrbanSound8K/models/aug-train-nb3.hdf5\n",
            "Epoch 45/48\n",
            "401/401 [==============================] - 31s 76ms/step - loss: 0.3726 - accuracy: 0.9067 - val_loss: 0.2674 - val_accuracy: 0.9470\n",
            "\n",
            "Epoch 00045: val_loss improved from 0.27535 to 0.26741, saving model to /content/drive/MyDrive/CNN/Training\\ Data/UrbanSound8K/models/aug-train-nb3.hdf5\n",
            "Epoch 46/48\n",
            "401/401 [==============================] - 31s 76ms/step - loss: 0.3605 - accuracy: 0.9104 - val_loss: 0.2642 - val_accuracy: 0.9463\n",
            "\n",
            "Epoch 00046: val_loss improved from 0.26741 to 0.26422, saving model to /content/drive/MyDrive/CNN/Training\\ Data/UrbanSound8K/models/aug-train-nb3.hdf5\n",
            "Epoch 47/48\n",
            "401/401 [==============================] - 31s 77ms/step - loss: 0.3595 - accuracy: 0.9094 - val_loss: 0.2553 - val_accuracy: 0.9476\n",
            "\n",
            "Epoch 00047: val_loss improved from 0.26422 to 0.25533, saving model to /content/drive/MyDrive/CNN/Training\\ Data/UrbanSound8K/models/aug-train-nb3.hdf5\n",
            "Epoch 48/48\n",
            "401/401 [==============================] - 31s 77ms/step - loss: 0.3450 - accuracy: 0.9132 - val_loss: 0.2501 - val_accuracy: 0.9495\n",
            "\n",
            "Epoch 00048: val_loss improved from 0.25533 to 0.25007, saving model to /content/drive/MyDrive/CNN/Training\\ Data/UrbanSound8K/models/aug-train-nb3.hdf5\n",
            "Training completed in time:  0:24:49.838761\n"
          ],
          "name": "stdout"
        }
      ]
    },
    {
      "cell_type": "markdown",
      "metadata": {
        "id": "XIKm8Ragu1VE"
      },
      "source": [
        "#### 2.4 General model evaluation"
      ]
    },
    {
      "cell_type": "code",
      "metadata": {
        "id": "Zpbz2ueOu1VE",
        "colab": {
          "base_uri": "https://localhost:8080/"
        },
        "outputId": "0f52bd43-ee96-4f51-9a43-b01447a8d62e"
      },
      "source": [
        "\n",
        "model.save('drive/MyDrive/CNN/Training Data/UrbanSound8K/models/aug-train-nb3.hdf5')\n",
        "\n",
        "# Load best saved model\n",
        "model = load_model(model_path)\n",
        "\n",
        "helpers.model_evaluation_report(model, X_train, y_train_encoded, X_test, y_test_encoded)"
      ],
      "execution_count": null,
      "outputs": [
        {
          "output_type": "stream",
          "text": [
            "                    LOSS      ACCURACY\n",
            "--------------------------------------\n",
            "Training:         0.2547       94.7285\n",
            "Test:             0.2643       94.5227\n",
            "Normal diff          3.62 \n"
          ],
          "name": "stdout"
        }
      ]
    },
    {
      "cell_type": "markdown",
      "metadata": {
        "id": "Wo_pUwrOu1VF"
      },
      "source": [
        "With a normal error difference of **3.75** between test and train we seem to have found a sweet spot, just before it starts overfitting, with an awesome accuracy improvement compared to all previous experiments, reaching **~95%** in test. The error has been minimized as much as **~0.22**."
      ]
    },
    {
      "cell_type": "markdown",
      "metadata": {
        "id": "o92XYGMlu1VF"
      },
      "source": [
        "#### 2.5 Train vs Test history plot"
      ]
    },
    {
      "cell_type": "code",
      "metadata": {
        "scrolled": false,
        "id": "YVezY9yqu1VF",
        "colab": {
          "base_uri": "https://localhost:8080/",
          "height": 663
        },
        "outputId": "d454530a-430e-4196-bdf4-cc1aff7d897d"
      },
      "source": [
        "helpers.plot_train_history(history)"
      ],
      "execution_count": null,
      "outputs": [
        {
          "output_type": "display_data",
          "data": {
            "image/png": "[encoded data removed]",
            "text/plain": [
              "<Figure size 1152x576 with 1 Axes>"
            ]
          },
          "metadata": {
            "tags": [],
            "needs_background": "light"
          }
        },
        {
          "output_type": "display_data",
          "data": {
            "image/png": "[encoded data removed]",
            "text/plain": [
              "<Figure size 1152x432 with 1 Axes>"
            ]
          },
          "metadata": {
            "tags": [],
            "needs_background": "light"
          }
        }
      ]
    },
    {
      "cell_type": "markdown",
      "metadata": {
        "id": "3I9fB4AOu1VF"
      },
      "source": [
        "Training dynamics have changed in comparison to the last two experiments where the validation error reached a maximum value during the first few epochs before starting to minimize and becoming comparable with train loss. In this case the validation loss minimized since the first epoch, as we have more data representing what we want to predict. Generalization gap is noticeable by two smooth loss lines and the error difference looks quite the same than last experiment with Log-Mel Spectrograms.<br/>\n",
        "<br/>"
      ]
    },
    {
      "cell_type": "markdown",
      "metadata": {
        "id": "zY5r4oStu1VF"
      },
      "source": [
        "### 3. Model evaluation"
      ]
    },
    {
      "cell_type": "markdown",
      "metadata": {
        "id": "tUDURVw-u1VG"
      },
      "source": [
        "#### * Register model output"
      ]
    },
    {
      "cell_type": "code",
      "metadata": {
        "id": "D9YfrFPKu1VG",
        "colab": {
          "base_uri": "https://localhost:8080/",
          "height": 245
        },
        "outputId": "92d6dc51-75f1-4010-c3a4-b07583901cea"
      },
      "source": [
        "# Predict probabilities for test set\n",
        "y_probs = model.predict(X_test, verbose=0)\n",
        "\n",
        "# Get predicted labels\n",
        "yhat_probs = np.argmax(y_probs, axis=1)\n",
        "y_trues = np.argmax(y_test_encoded, axis=1)\n",
        "\n",
        "# Add \"pred\" column\n",
        "test_meta['pred'] = yhat_probs"
      ],
      "execution_count": null,
      "outputs": [
        {
          "output_type": "error",
          "ename": "NameError",
          "evalue": "ignored",
          "traceback": [
            "\u001b[0;31m---------------------------------------------------------------------------\u001b[0m",
            "\u001b[0;31mNameError\u001b[0m                                 Traceback (most recent call last)",
            "\u001b[0;32m<ipython-input-15-0adc5dd7a3c7>\u001b[0m in \u001b[0;36m<module>\u001b[0;34m()\u001b[0m\n\u001b[1;32m      1\u001b[0m \u001b[0;31m# Predict probabilities for test set\u001b[0m\u001b[0;34m\u001b[0m\u001b[0;34m\u001b[0m\u001b[0;34m\u001b[0m\u001b[0m\n\u001b[0;32m----> 2\u001b[0;31m \u001b[0my_probs\u001b[0m \u001b[0;34m=\u001b[0m \u001b[0mmodel\u001b[0m\u001b[0;34m.\u001b[0m\u001b[0mpredict\u001b[0m\u001b[0;34m(\u001b[0m\u001b[0mX_test\u001b[0m\u001b[0;34m,\u001b[0m \u001b[0mverbose\u001b[0m\u001b[0;34m=\u001b[0m\u001b[0;36m0\u001b[0m\u001b[0;34m)\u001b[0m\u001b[0;34m\u001b[0m\u001b[0;34m\u001b[0m\u001b[0m\n\u001b[0m\u001b[1;32m      3\u001b[0m \u001b[0;34m\u001b[0m\u001b[0m\n\u001b[1;32m      4\u001b[0m \u001b[0;31m# Get predicted labels\u001b[0m\u001b[0;34m\u001b[0m\u001b[0;34m\u001b[0m\u001b[0;34m\u001b[0m\u001b[0m\n\u001b[1;32m      5\u001b[0m \u001b[0myhat_probs\u001b[0m \u001b[0;34m=\u001b[0m \u001b[0mnp\u001b[0m\u001b[0;34m.\u001b[0m\u001b[0margmax\u001b[0m\u001b[0;34m(\u001b[0m\u001b[0my_probs\u001b[0m\u001b[0;34m,\u001b[0m \u001b[0maxis\u001b[0m\u001b[0;34m=\u001b[0m\u001b[0;36m1\u001b[0m\u001b[0;34m)\u001b[0m\u001b[0;34m\u001b[0m\u001b[0;34m\u001b[0m\u001b[0m\n",
            "\u001b[0;31mNameError\u001b[0m: name 'model' is not defined"
          ]
        }
      ]
    },
    {
      "cell_type": "markdown",
      "metadata": {
        "id": "5kLopLd2u1VG"
      },
      "source": [
        "#### 3.1 Confusion matrix"
      ]
    },
    {
      "cell_type": "code",
      "metadata": {
        "id": "rC5_B600u1VG",
        "colab": {
          "base_uri": "https://localhost:8080/",
          "height": 852
        },
        "outputId": "0d02a6a0-2fa4-4a52-edf8-0803dfb1fe2b"
      },
      "source": [
        "# Sets decimal precision (for printing output only)\n",
        "np.set_printoptions(precision=2)\n",
        "\n",
        "# Compute confusion matrix data\n",
        "cm = confusion_matrix(y_trues, yhat_probs)\n",
        "\n",
        "helpers.plot_confusion_matrix(cm,\n",
        "                          labels, \n",
        "                          normalized=False, \n",
        "                          title=\"Model Performance\", \n",
        "                          cmap=plt.cm.Blues,\n",
        "                          size=(12,12))"
      ],
      "execution_count": null,
      "outputs": [
        {
          "output_type": "display_data",
          "data": {
            "image/png": "[encoded data removed]",
            "text/plain": [
              "<Figure size 864x864 with 2 Axes>"
            ]
          },
          "metadata": {
            "tags": [],
            "needs_background": "light"
          }
        }
      ]
    },
    {
      "cell_type": "markdown",
      "metadata": {
        "id": "tSYuXmIau1VH"
      },
      "source": [
        "We now have multiple times more data than before in our test set but still we can see how some particular patterns are still present, hopefully, with a slighter effect. Usual misclassification cases still happen between **Street Music** and **Children Playing**, **Drilling** and **Jack Hammer** or **Dog Bark** and **Children Playing**."
      ]
    },
    {
      "cell_type": "markdown",
      "metadata": {
        "id": "SR22zDF_u1VH"
      },
      "source": [
        "#### 3.2 Accuracy table"
      ]
    },
    {
      "cell_type": "code",
      "metadata": {
        "id": "IxQihgnBu1VH",
        "colab": {
          "base_uri": "https://localhost:8080/",
          "height": 359
        },
        "outputId": "f051fe5e-339c-4207-cafd-150c2c40e426"
      },
      "source": [
        "# Find per-class accuracy from the confusion matrix data\n",
        "accuracies = helpers.acc_per_class(cm)\n",
        "\n",
        "pd.DataFrame({\n",
        "    'CLASS': labels,\n",
        "    'ACCURACY': accuracies\n",
        "}).sort_values(by=\"ACCURACY\", ascending=False)"
      ],
      "execution_count": null,
      "outputs": [
        {
          "output_type": "execute_result",
          "data": {
            "text/html": [
              "<div>\n",
              "<style scoped>\n",
              "    .dataframe tbody tr th:only-of-type {\n",
              "        vertical-align: middle;\n",
              "    }\n",
              "\n",
              "    .dataframe tbody tr th {\n",
              "        vertical-align: top;\n",
              "    }\n",
              "\n",
              "    .dataframe thead th {\n",
              "        text-align: right;\n",
              "    }\n",
              "</style>\n",
              "<table border=\"1\" class=\"dataframe\">\n",
              "  <thead>\n",
              "    <tr style=\"text-align: right;\">\n",
              "      <th></th>\n",
              "      <th>CLASS</th>\n",
              "      <th>ACCURACY</th>\n",
              "    </tr>\n",
              "  </thead>\n",
              "  <tbody>\n",
              "    <tr>\n",
              "      <th>6</th>\n",
              "      <td>Gun Shot</td>\n",
              "      <td>98.336414</td>\n",
              "    </tr>\n",
              "    <tr>\n",
              "      <th>7</th>\n",
              "      <td>Jackhammer</td>\n",
              "      <td>96.559140</td>\n",
              "    </tr>\n",
              "    <tr>\n",
              "      <th>5</th>\n",
              "      <td>Engine Idling</td>\n",
              "      <td>96.123475</td>\n",
              "    </tr>\n",
              "    <tr>\n",
              "      <th>0</th>\n",
              "      <td>Air Conditioner</td>\n",
              "      <td>95.924309</td>\n",
              "    </tr>\n",
              "    <tr>\n",
              "      <th>8</th>\n",
              "      <td>Siren</td>\n",
              "      <td>95.887281</td>\n",
              "    </tr>\n",
              "    <tr>\n",
              "      <th>1</th>\n",
              "      <td>Car Horn</td>\n",
              "      <td>95.681063</td>\n",
              "    </tr>\n",
              "    <tr>\n",
              "      <th>4</th>\n",
              "      <td>Drilling</td>\n",
              "      <td>94.024725</td>\n",
              "    </tr>\n",
              "    <tr>\n",
              "      <th>3</th>\n",
              "      <td>Dog bark</td>\n",
              "      <td>93.387816</td>\n",
              "    </tr>\n",
              "    <tr>\n",
              "      <th>9</th>\n",
              "      <td>Street Music</td>\n",
              "      <td>92.663818</td>\n",
              "    </tr>\n",
              "    <tr>\n",
              "      <th>2</th>\n",
              "      <td>Children Playing</td>\n",
              "      <td>89.712230</td>\n",
              "    </tr>\n",
              "  </tbody>\n",
              "</table>\n",
              "</div>"
            ],
            "text/plain": [
              "              CLASS   ACCURACY\n",
              "6          Gun Shot  98.336414\n",
              "7        Jackhammer  96.559140\n",
              "5     Engine Idling  96.123475\n",
              "0   Air Conditioner  95.924309\n",
              "8             Siren  95.887281\n",
              "1          Car Horn  95.681063\n",
              "4          Drilling  94.024725\n",
              "3          Dog bark  93.387816\n",
              "9      Street Music  92.663818\n",
              "2  Children Playing  89.712230"
            ]
          },
          "metadata": {
            "tags": []
          },
          "execution_count": 58
        }
      ]
    },
    {
      "cell_type": "markdown",
      "metadata": {
        "id": "MknjYvZyu1VH"
      },
      "source": [
        "Happily, every class accuracy has raised! What's more interesting is that results are more balanced between classes now.<br/>"
      ]
    },
    {
      "cell_type": "code",
      "metadata": {
        "id": "wzLWIAVmu1VH",
        "colab": {
          "base_uri": "https://localhost:8080/"
        },
        "outputId": "2b85decc-2df9-47b1-ddf8-97ef4dc67b66"
      },
      "source": [
        "# Build classification report\n",
        "re = classification_report(y_trues, yhat_probs, labels=[0,1,2,3,4,5,6,7,8,9], target_names=labels)\n",
        "\n",
        "print(re)"
      ],
      "execution_count": null,
      "outputs": [
        {
          "output_type": "stream",
          "text": [
            "                  precision    recall  f1-score   support\n",
            "\n",
            " Air Conditioner       0.93      0.96      0.94      1374\n",
            "        Car Horn       0.89      0.96      0.92       602\n",
            "Children Playing       0.92      0.90      0.91      1390\n",
            "        Dog bark       0.94      0.93      0.94      1346\n",
            "        Drilling       0.98      0.94      0.96      1456\n",
            "   Engine Idling       0.95      0.96      0.96      1393\n",
            "        Gun Shot       0.97      0.98      0.97       541\n",
            "      Jackhammer       0.97      0.97      0.97      1395\n",
            "           Siren       0.99      0.96      0.97      1313\n",
            "    Street Music       0.91      0.93      0.92      1404\n",
            "\n",
            "        accuracy                           0.95     12214\n",
            "       macro avg       0.94      0.95      0.95     12214\n",
            "    weighted avg       0.95      0.95      0.95     12214\n",
            "\n"
          ],
          "name": "stdout"
        }
      ]
    },
    {
      "cell_type": "markdown",
      "metadata": {
        "id": "15kiOt0Xu1VI"
      },
      "source": [
        "Similar to class accuracies, we see an increase in the average F1, Precision and Recall scores, and also, more balanced results. The common patterns we have been seeing for the last two experiments are still present but with a much slighter effect.<br/>\n",
        "<br/>"
      ]
    },
    {
      "cell_type": "markdown",
      "metadata": {
        "id": "grq6NPVvu1VI"
      },
      "source": [
        "## 4. Conclusion\n",
        "\n",
        "All along this experiments we have learned how a very simple convolutional neural network can learn to recognize audible events, even when working with quite unbalanced datasets as the UrbanSound8K is. I would still like to experiment with different feature combinations; not that this performance scores are useless, we sure can use this model as it is to learn simple events like orders (\"start\", \"right\", \"update\", \"stop\", ...) or numbers for example.<br/>\n",
        "<br/>\n",
        "The amount of data showed to be a very important factor, until data augmentation training results where much more bound to the distribution of train/test splits: where it was easy to end up with a test split that wouldn't represent the train split. This didn't happen with augmented data.<br/>\n",
        "<br/>\n"
      ]
    }
  ]
}
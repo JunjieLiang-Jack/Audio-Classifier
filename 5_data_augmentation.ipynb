{
  "nbformat": 4,
  "nbformat_minor": 0,
  "metadata": {
    "kernelspec": {
      "display_name": "Python 3",
      "language": "python",
      "name": "python3"
    },
    "language_info": {
      "codemirror_mode": {
        "name": "ipython",
        "version": 3
      },
      "file_extension": ".py",
      "mimetype": "text/x-python",
      "name": "python",
      "nbconvert_exporter": "python",
      "pygments_lexer": "ipython3",
      "version": "3.6.9"
    },
    "colab": {
      "name": "5-data-augmentation.ipynb",
      "provenance": [],
      "collapsed_sections": [],
      "include_colab_link": true
    }
  },
  "cells": [
    {
      "cell_type": "markdown",
      "metadata": {
        "id": "view-in-github",
        "colab_type": "text"
      },
      "source": [
        "<a href=\"https://colab.research.google.com/github/JunjieLiang-Jack/Audio-Classifier/blob/main/5_data_augmentation.ipynb\" target=\"_parent\"><img src=\"https://colab.research.google.com/assets/colab-badge.svg\" alt=\"Open In Colab\"/></a>"
      ]
    },
    {
      "cell_type": "markdown",
      "metadata": {
        "id": "DNK7tGjvRPUG"
      },
      "source": [
        "##  Classifying audio data with convolutional neural networks\n",
        "\n",
        "<br/>\n",
        "by Eduardo Garcia Rajo<br/>\n",
        "<br/>\n",
        "\n",
        "This notebook is part of the project \"Urban sounds classification with Covnolutional Neural Networks\" on [my Github](https://github.com/GorillaBus/urban-audio-classifier).<br/>\n",
        "<br/>\n",
        "Licensed under the GNU LESSER GENERAL PUBLIC LICENSE Version 3, 29 June 2007<br/>\n",
        "<br/>"
      ]
    },
    {
      "cell_type": "markdown",
      "metadata": {
        "id": "YY7IAA4eRPUK"
      },
      "source": [
        "# UrbanSound8K Data Augmentation\n",
        "\n",
        "On this notebook I'm creating variations of the original files applying the following effects:\n",
        "\n",
        "1. Time stretch\n",
        "2. Pitch shift\n",
        "3. Noise\n",
        "\n",
        "By default the new files are being saved in **UrbanSound8K/audio/augmented** with the same fold schema. At the end of the notebook a new metadata file is created combining the original dataset files and the generated ones.<br/>\n",
        "<br/>\n",
        "<br/>"
      ]
    },
    {
      "cell_type": "code",
      "metadata": {
        "colab": {
          "base_uri": "https://localhost:8080/"
        },
        "id": "5p8Y3lRURPUL",
        "outputId": "dd3ed8b4-521e-42b7-d5b0-6a5b46e14de2"
      },
      "source": [
        "import os\n",
        "import librosa\n",
        "import librosa.display\n",
        "import soundfile as sf\n",
        "import pandas as pd\n",
        "import numpy as np\n",
        "import random\n",
        "import matplotlib as plt\n",
        "import matplotlib.pyplot as plt\n",
        "from IPython.display import clear_output, display\n",
        "from google.colab import drive\n",
        "drive.mount('/content/drive')"
      ],
      "execution_count": null,
      "outputs": [
        {
          "output_type": "stream",
          "text": [
            "Mounted at /content/drive\n"
          ],
          "name": "stdout"
        }
      ]
    },
    {
      "cell_type": "markdown",
      "metadata": {
        "id": "B0R80Po2RPUM"
      },
      "source": [
        "#### * Load metadata CSV"
      ]
    },
    {
      "cell_type": "code",
      "metadata": {
        "id": "LMh9v9JBRPUN"
      },
      "source": [
        "# Set your path to the dataset\n",
        "us8k_path = os.path.abspath('drive/MyDrive/CNN/Training Data/UrbanSound8K/')\n",
        "audio_path = os.path.join(us8k_path, 'audio')\n",
        "augmented_path = os.path.join(audio_path, 'augmented')\n",
        "\n",
        "# Metadata\n",
        "metadata_path = os.path.join(us8k_path, 'metadata/UrbanSound8K.csv')\n",
        "metadata_augmented_path = os.path.abspath('drive/MyDrive/CNN/Training Data/UrbanSound8K/metadata/augmented-data.csv')"
      ],
      "execution_count": null,
      "outputs": []
    },
    {
      "cell_type": "markdown",
      "metadata": {
        "id": "Zd3PTVFKRPUN"
      },
      "source": [
        "#### * Load metadata"
      ]
    },
    {
      "cell_type": "code",
      "metadata": {
        "colab": {
          "base_uri": "https://localhost:8080/",
          "height": 204
        },
        "id": "TGhbnMcQRPUO",
        "outputId": "ea90fb5b-3e68-49bb-9737-15d2e717048b"
      },
      "source": [
        "# Load the metadata from the generated CSV\n",
        "metadata = pd.read_csv(metadata_path)\n",
        "\n",
        "# Examine dataframe\n",
        "metadata.head()"
      ],
      "execution_count": null,
      "outputs": [
        {
          "output_type": "execute_result",
          "data": {
            "text/html": [
              "<div>\n",
              "<style scoped>\n",
              "    .dataframe tbody tr th:only-of-type {\n",
              "        vertical-align: middle;\n",
              "    }\n",
              "\n",
              "    .dataframe tbody tr th {\n",
              "        vertical-align: top;\n",
              "    }\n",
              "\n",
              "    .dataframe thead th {\n",
              "        text-align: right;\n",
              "    }\n",
              "</style>\n",
              "<table border=\"1\" class=\"dataframe\">\n",
              "  <thead>\n",
              "    <tr style=\"text-align: right;\">\n",
              "      <th></th>\n",
              "      <th>slice_file_name</th>\n",
              "      <th>fsID</th>\n",
              "      <th>start</th>\n",
              "      <th>end</th>\n",
              "      <th>salience</th>\n",
              "      <th>fold</th>\n",
              "      <th>classID</th>\n",
              "      <th>class</th>\n",
              "    </tr>\n",
              "  </thead>\n",
              "  <tbody>\n",
              "    <tr>\n",
              "      <th>0</th>\n",
              "      <td>100032-3-0-0.wav</td>\n",
              "      <td>100032</td>\n",
              "      <td>0.0</td>\n",
              "      <td>0.317551</td>\n",
              "      <td>1</td>\n",
              "      <td>5</td>\n",
              "      <td>3</td>\n",
              "      <td>dog_bark</td>\n",
              "    </tr>\n",
              "    <tr>\n",
              "      <th>1</th>\n",
              "      <td>100263-2-0-117.wav</td>\n",
              "      <td>100263</td>\n",
              "      <td>58.5</td>\n",
              "      <td>62.500000</td>\n",
              "      <td>1</td>\n",
              "      <td>5</td>\n",
              "      <td>2</td>\n",
              "      <td>children_playing</td>\n",
              "    </tr>\n",
              "    <tr>\n",
              "      <th>2</th>\n",
              "      <td>100263-2-0-121.wav</td>\n",
              "      <td>100263</td>\n",
              "      <td>60.5</td>\n",
              "      <td>64.500000</td>\n",
              "      <td>1</td>\n",
              "      <td>5</td>\n",
              "      <td>2</td>\n",
              "      <td>children_playing</td>\n",
              "    </tr>\n",
              "    <tr>\n",
              "      <th>3</th>\n",
              "      <td>100263-2-0-126.wav</td>\n",
              "      <td>100263</td>\n",
              "      <td>63.0</td>\n",
              "      <td>67.000000</td>\n",
              "      <td>1</td>\n",
              "      <td>5</td>\n",
              "      <td>2</td>\n",
              "      <td>children_playing</td>\n",
              "    </tr>\n",
              "    <tr>\n",
              "      <th>4</th>\n",
              "      <td>100263-2-0-137.wav</td>\n",
              "      <td>100263</td>\n",
              "      <td>68.5</td>\n",
              "      <td>72.500000</td>\n",
              "      <td>1</td>\n",
              "      <td>5</td>\n",
              "      <td>2</td>\n",
              "      <td>children_playing</td>\n",
              "    </tr>\n",
              "  </tbody>\n",
              "</table>\n",
              "</div>"
            ],
            "text/plain": [
              "      slice_file_name    fsID  start  ...  fold  classID             class\n",
              "0    100032-3-0-0.wav  100032    0.0  ...     5        3          dog_bark\n",
              "1  100263-2-0-117.wav  100263   58.5  ...     5        2  children_playing\n",
              "2  100263-2-0-121.wav  100263   60.5  ...     5        2  children_playing\n",
              "3  100263-2-0-126.wav  100263   63.0  ...     5        2  children_playing\n",
              "4  100263-2-0-137.wav  100263   68.5  ...     5        2  children_playing\n",
              "\n",
              "[5 rows x 8 columns]"
            ]
          },
          "metadata": {
            "tags": []
          },
          "execution_count": 3
        }
      ]
    },
    {
      "cell_type": "markdown",
      "metadata": {
        "id": "MR__GPlzRPUQ"
      },
      "source": [
        "#### 1. Time stretching (changing play time)"
      ]
    },
    {
      "cell_type": "code",
      "metadata": {
        "scrolled": true,
        "id": "XBSI_AKKRPUR"
      },
      "source": [
        "rates = [0.81, 1.07]\n",
        "total = len(metadata) * len(rates)\n",
        "count = 0\n",
        "for rate in rates: \n",
        "    # Generate new stretched audio file\n",
        "    for index, row in metadata.iterrows():        \n",
        "        curr_fold = str(row['fold'])\n",
        "        curr_file_path = audio_path + '/fold' + curr_fold + '/' + row['slice_file_name']\n",
        "        \n",
        "        # Speed sub-dir inside current fold dir\n",
        "        curr_rate_path = augmented_path + '/fold' + curr_fold + '/speed_' + str(int(rate*100))\n",
        "\n",
        "        \n",
        "        # Create sub-dir if it does not exist\n",
        "        if not os.path.exists(curr_rate_path):\n",
        "            os.makedirs(curr_rate_path)\n",
        "                    \n",
        "        output_path = curr_rate_path + '/' + row['slice_file_name']\n",
        "        \n",
        "        # Skip when file already exists\n",
        "        if (os.path.isfile(output_path)):\n",
        "            count += 1 \n",
        "            continue\n",
        "        \n",
        "        y, sr = librosa.load(curr_file_path)  \n",
        "        y_changed = librosa.effects.time_stretch(y, rate=rate)\n",
        "        sf.write(output_path, y_changed, sr)\n",
        "        \n",
        "        count += 1 \n",
        "        \n",
        "        clear_output(wait=True)\n",
        "        print(\"Progress: {}/{}\".format(count, total))\n",
        "        print(\"Last file: \", row['slice_file_name'])\n"
      ],
      "execution_count": null,
      "outputs": []
    },
    {
      "cell_type": "markdown",
      "metadata": {
        "id": "wTiyxmpnRPUS"
      },
      "source": [
        "#### 2. Pitch shifting"
      ]
    },
    {
      "cell_type": "code",
      "metadata": {
        "colab": {
          "base_uri": "https://localhost:8080/"
        },
        "id": "7zwbW1RTRPUT",
        "outputId": "e1f7caf4-3afd-43b4-93e1-9d43cdaa4776"
      },
      "source": [
        "tone_steps = [-1, -2, 1, 2]\n",
        "total = len(metadata) * len(tone_steps)\n",
        "count = 0\n",
        "for tone_step in tone_steps:\n",
        "    # Generate new pitched audio\n",
        "    for index, row in metadata.iterrows():        \n",
        "        curr_fold = str(row['fold'])\n",
        "        curr_file_path = audio_path + '/fold' + curr_fold + '/' + row['slice_file_name']\n",
        "\n",
        "        # Pitch Shift sub-dir inside current fold dir\n",
        "        curr_ps_path = augmented_path + '/fold' + curr_fold + '/pitch_' + str(tone_step)\n",
        "\n",
        "        # Create sub-dir if it does not exist\n",
        "        if not os.path.exists(curr_ps_path):\n",
        "            os.makedirs(curr_ps_path)\n",
        "        \n",
        "        output_path = curr_ps_path + '/' + row['slice_file_name']\n",
        "        \n",
        "        # Skip when file already exists\n",
        "        if (os.path.isfile(output_path)):\n",
        "            count += 1 \n",
        "            continue\n",
        "        \n",
        "        y, sr = librosa.load(curr_file_path)  \n",
        "        y_changed = librosa.effects.pitch_shift(y, sr, n_steps=tone_step)\n",
        "        sf.write(output_path, y_changed, sr)\n",
        "        \n",
        "        count += 1 \n",
        "        \n",
        "        clear_output(wait=True)\n",
        "        print(\"Progress: {}/{}\".format(count, total))\n",
        "        print(\"Last file: \", row['slice_file_name'])"
      ],
      "execution_count": null,
      "outputs": [
        {
          "output_type": "stream",
          "text": [
            "Progress: 34928/34928\n",
            "Last file:  99812-1-6-0.wav\n"
          ],
          "name": "stdout"
        }
      ]
    },
    {
      "cell_type": "markdown",
      "metadata": {
        "id": "z5H6-JTYRPUT"
      },
      "source": [
        "#### 3. Noise"
      ]
    },
    {
      "cell_type": "code",
      "metadata": {
        "colab": {
          "base_uri": "https://localhost:8080/"
        },
        "id": "iYndadK0RPUU",
        "outputId": "ebc81fb6-c635-4492-9178-2b509f12bf25"
      },
      "source": [
        "import random\n",
        "\n",
        "def add_noise(data):\n",
        "    noise = np.random.rand(len(data))\n",
        "    noise_amp = random.uniform(0.005, 0.008)\n",
        "    data_noise = data + (noise_amp * noise)\n",
        "    return data_noise\n",
        "\n",
        "total = len(metadata)\n",
        "count = 0\n",
        "\n",
        "# Generate new noised audio\n",
        "for index, row in metadata.iterrows():        \n",
        "    curr_fold = str(row['fold'])\n",
        "    curr_file_path = audio_path + '/fold' + curr_fold + '/' + row['slice_file_name']\n",
        "\n",
        "    # Noised sub-dir inside current fold dir\n",
        "    curr_noise_path = augmented_path + '/fold' + curr_fold + '/noise'\n",
        "\n",
        "    # Create sub-dir if it does not exist\n",
        "    if not os.path.exists(curr_noise_path):\n",
        "        os.makedirs(curr_noise_path)\n",
        "        \n",
        "    output_path = curr_noise_path + '/' + row['slice_file_name']\n",
        "        \n",
        "    # Skip when file already exists\n",
        "    if (os.path.isfile(output_path)):\n",
        "        count += 1 \n",
        "        continue\n",
        "        \n",
        "    y, sr = librosa.load(curr_file_path)  \n",
        "    y_changed = add_noise(y)\n",
        "    sf.write(output_path, y_changed, sr)\n",
        "    \n",
        "    count += 1 \n",
        "\n",
        "    clear_output(wait=True)\n",
        "    print(\"Progress: {}/{}\".format(count, total))\n",
        "    print(\"Last file: \", row['slice_file_name'])"
      ],
      "execution_count": null,
      "outputs": [
        {
          "output_type": "stream",
          "text": [
            "Progress: 8732/8732\n",
            "Last file:  99812-1-6-0.wav\n"
          ],
          "name": "stdout"
        }
      ]
    },
    {
      "cell_type": "markdown",
      "metadata": {
        "id": "rwcjsQdPRPUU"
      },
      "source": [
        "#### 4. Create metadata for the new files"
      ]
    },
    {
      "cell_type": "code",
      "metadata": {
        "id": "9Qr_iirxRPUV"
      },
      "source": [
        "def get_files_recursive(path):\n",
        "    # create a list of file and sub directories names in the given directory \n",
        "    file_list = os.listdir(path)\n",
        "    all_files = list()\n",
        "    # Iterate over all the entries\n",
        "    for entry in file_list:\n",
        "        # Create full path\n",
        "        full_path = os.path.join(path, entry)\n",
        "        # If entry is a directory then get the list of files in this directory \n",
        "        if os.path.isdir(full_path):\n",
        "            all_files = all_files + get_files_recursive(full_path)\n",
        "        else:\n",
        "            all_files.append(full_path)\n",
        "                \n",
        "    return all_files   "
      ],
      "execution_count": null,
      "outputs": []
    },
    {
      "cell_type": "code",
      "metadata": {
        "colab": {
          "base_uri": "https://localhost:8080/"
        },
        "id": "NKcOhuZXRPUV",
        "outputId": "6f9638c7-b64a-42df-cdc5-e1bd44894759"
      },
      "source": [
        "# Get every single file within the tree\n",
        "files = get_files_recursive(augmented_path)\n",
        "\n",
        "# Define metadata columns\n",
        "names = []\n",
        "classes = []\n",
        "folds = []\n",
        "augmentations = []\n",
        "\n",
        "# Iterate and collect name, fold and class\n",
        "for file in files:\n",
        "    pieces = file.split(\"/\")\n",
        "    file = pieces[len(pieces) - 1]\n",
        "    fold = pieces[len(pieces) - 3] \n",
        "    augment = pieces[len(pieces) - 2] \n",
        "    fold_num = fold[4:len(fold)]\n",
        "    class_id = file.split(\"-\")[1]\n",
        "\n",
        "    # Push records\n",
        "    names.append(file)\n",
        "    folds.append(fold_num)\n",
        "    classes.append(class_id)\n",
        "    augmentations.append(augment)\n",
        "\n",
        "# Create a dataframe with the new augmented data\n",
        "new_meta = pd.DataFrame({'file': names, 'fold': folds, 'class_id': classes, 'augment': augmentations })\n",
        "\n",
        "# Make sure class_id is int\n",
        "new_meta['class_id'] = new_meta['class_id'].astype(np.int64)\n",
        "\n",
        "print(len(new_meta), \"new entries\")"
      ],
      "execution_count": null,
      "outputs": [
        {
          "output_type": "stream",
          "text": [
            "61124 new entries\n"
          ],
          "name": "stdout"
        }
      ]
    },
    {
      "cell_type": "code",
      "metadata": {
        "id": "-6Iis23wRPUV"
      },
      "source": [
        "# Add class names to the new dataframe using merge\n",
        "classes = pd.DataFrame({\n",
        "    'class_id': range(0,10),\n",
        "    'class': [\n",
        "        'air_conditioner',\n",
        "        'car_horn',\n",
        "        'children_playing',\n",
        "        'dog_bark',\n",
        "        'drilling',\n",
        "        'engine_idling',\n",
        "        'gun_shot',\n",
        "        'jackhammer',\n",
        "        'siren',\n",
        "        'street_music'\n",
        "    ]\n",
        "})\n",
        "\n",
        "new_meta = pd.merge(new_meta, classes, on='class_id')\n"
      ],
      "execution_count": null,
      "outputs": []
    },
    {
      "cell_type": "code",
      "metadata": {
        "colab": {
          "base_uri": "https://localhost:8080/",
          "height": 204
        },
        "id": "dTesIKjERPUW",
        "outputId": "64f21b08-5361-4b38-c61c-66aaca78fa22"
      },
      "source": [
        "new_meta.tail()"
      ],
      "execution_count": null,
      "outputs": [
        {
          "output_type": "execute_result",
          "data": {
            "text/html": [
              "<div>\n",
              "<style scoped>\n",
              "    .dataframe tbody tr th:only-of-type {\n",
              "        vertical-align: middle;\n",
              "    }\n",
              "\n",
              "    .dataframe tbody tr th {\n",
              "        vertical-align: top;\n",
              "    }\n",
              "\n",
              "    .dataframe thead th {\n",
              "        text-align: right;\n",
              "    }\n",
              "</style>\n",
              "<table border=\"1\" class=\"dataframe\">\n",
              "  <thead>\n",
              "    <tr style=\"text-align: right;\">\n",
              "      <th></th>\n",
              "      <th>file</th>\n",
              "      <th>fold</th>\n",
              "      <th>class_id</th>\n",
              "      <th>augment</th>\n",
              "      <th>class</th>\n",
              "    </tr>\n",
              "  </thead>\n",
              "  <tbody>\n",
              "    <tr>\n",
              "      <th>61119</th>\n",
              "      <td>25039-6-0-0.wav</td>\n",
              "      <td>8</td>\n",
              "      <td>6</td>\n",
              "      <td>noise</td>\n",
              "      <td>gun_shot</td>\n",
              "    </tr>\n",
              "    <tr>\n",
              "      <th>61120</th>\n",
              "      <td>25039-6-1-0.wav</td>\n",
              "      <td>8</td>\n",
              "      <td>6</td>\n",
              "      <td>noise</td>\n",
              "      <td>gun_shot</td>\n",
              "    </tr>\n",
              "    <tr>\n",
              "      <th>61121</th>\n",
              "      <td>52284-6-0-0.wav</td>\n",
              "      <td>8</td>\n",
              "      <td>6</td>\n",
              "      <td>noise</td>\n",
              "      <td>gun_shot</td>\n",
              "    </tr>\n",
              "    <tr>\n",
              "      <th>61122</th>\n",
              "      <td>7065-6-0-0.wav</td>\n",
              "      <td>8</td>\n",
              "      <td>6</td>\n",
              "      <td>noise</td>\n",
              "      <td>gun_shot</td>\n",
              "    </tr>\n",
              "    <tr>\n",
              "      <th>61123</th>\n",
              "      <td>7068-6-0-0.wav</td>\n",
              "      <td>8</td>\n",
              "      <td>6</td>\n",
              "      <td>noise</td>\n",
              "      <td>gun_shot</td>\n",
              "    </tr>\n",
              "  </tbody>\n",
              "</table>\n",
              "</div>"
            ],
            "text/plain": [
              "                  file fold  class_id augment     class\n",
              "61119  25039-6-0-0.wav    8         6   noise  gun_shot\n",
              "61120  25039-6-1-0.wav    8         6   noise  gun_shot\n",
              "61121  52284-6-0-0.wav    8         6   noise  gun_shot\n",
              "61122   7065-6-0-0.wav    8         6   noise  gun_shot\n",
              "61123   7068-6-0-0.wav    8         6   noise  gun_shot"
            ]
          },
          "metadata": {
            "tags": []
          },
          "execution_count": 10
        }
      ]
    },
    {
      "cell_type": "markdown",
      "metadata": {
        "id": "YPhKzcQARPUW"
      },
      "source": [
        "#### 5. Integrate metadata in a single file"
      ]
    },
    {
      "cell_type": "code",
      "metadata": {
        "id": "aNLjrpqKRPUW"
      },
      "source": [
        "# Modify original data to fit the new structure\n",
        "del metadata['fsID'], metadata['start'], metadata['end'], metadata['salience']\n",
        "metadata.columns = ['file', 'fold', 'class_id', 'class']\n",
        "metadata['augment'] = 'none'\n"
      ],
      "execution_count": null,
      "outputs": []
    },
    {
      "cell_type": "code",
      "metadata": {
        "scrolled": true,
        "colab": {
          "base_uri": "https://localhost:8080/"
        },
        "id": "jIwSIs-rRPUW",
        "outputId": "250e0334-9592-4c2c-bc4a-d8a0035c5791"
      },
      "source": [
        "# Concat the two dataframes\n",
        "full_meta = pd.concat([metadata, new_meta])\n",
        "\n",
        "# Verify lengths\n",
        "if (len(full_meta) == len(metadata) + len(new_meta)):\n",
        "    print(\"Dataframes merged correctly!\")\n",
        "else:\n",
        "    print(\"Error! Lengths do not match.\")\n",
        "\n",
        "print(\"Initial data:\", len(metadata))\n",
        "print(\"New data:\", len(new_meta))\n",
        "print(\"Merged data:\", len(full_meta))"
      ],
      "execution_count": null,
      "outputs": [
        {
          "output_type": "stream",
          "text": [
            "Dataframes merged correctly!\n",
            "Initial data: 8732\n",
            "New data: 61124\n",
            "Merged data: 69856\n"
          ],
          "name": "stdout"
        }
      ]
    },
    {
      "cell_type": "markdown",
      "metadata": {
        "id": "AouGMEWWRPUW"
      },
      "source": [
        "####  6. Save the new dataset"
      ]
    },
    {
      "cell_type": "code",
      "metadata": {
        "id": "PBN8XApmRPUX"
      },
      "source": [
        "# Save the new metadata\n",
        "full_meta.to_csv(metadata_augmented_path, index=False, encoding=\"utf-8\")"
      ],
      "execution_count": null,
      "outputs": []
    }
  ]
}